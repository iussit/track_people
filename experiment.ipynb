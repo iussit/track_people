{
 "cells": [
  {
   "cell_type": "code",
   "execution_count": 1,
   "metadata": {},
   "outputs": [],
   "source": [
    "import numpy as np\n",
    "import pandas as pd\n",
    "import warnings\n",
    "warnings.filterwarnings(\"ignore\")\n",
    "\n",
    "from geopy.geocoders import Nominatim\n",
    "from sklearn.cluster import DBSCAN\n",
    "from urllib.request import Request"
   ]
  },
  {
   "cell_type": "code",
   "execution_count": 2,
   "metadata": {},
   "outputs": [
    {
     "data": {
      "text/html": [
       "<div>\n",
       "<style scoped>\n",
       "    .dataframe tbody tr th:only-of-type {\n",
       "        vertical-align: middle;\n",
       "    }\n",
       "\n",
       "    .dataframe tbody tr th {\n",
       "        vertical-align: top;\n",
       "    }\n",
       "\n",
       "    .dataframe thead th {\n",
       "        text-align: right;\n",
       "    }\n",
       "</style>\n",
       "<table border=\"1\" class=\"dataframe\">\n",
       "  <thead>\n",
       "    <tr style=\"text-align: right;\">\n",
       "      <th></th>\n",
       "      <th>people_id</th>\n",
       "      <th>time</th>\n",
       "      <th>longitude</th>\n",
       "      <th>latitude</th>\n",
       "    </tr>\n",
       "  </thead>\n",
       "  <tbody>\n",
       "    <tr>\n",
       "      <th>0</th>\n",
       "      <td>2</td>\n",
       "      <td>2017-03-19 21:00:18</td>\n",
       "      <td>38.937878</td>\n",
       "      <td>47.210758</td>\n",
       "    </tr>\n",
       "    <tr>\n",
       "      <th>1</th>\n",
       "      <td>3</td>\n",
       "      <td>2017-03-19 21:00:18</td>\n",
       "      <td>45.655278</td>\n",
       "      <td>43.259605</td>\n",
       "    </tr>\n",
       "    <tr>\n",
       "      <th>2</th>\n",
       "      <td>4</td>\n",
       "      <td>2017-03-19 21:00:18</td>\n",
       "      <td>47.113440</td>\n",
       "      <td>42.804970</td>\n",
       "    </tr>\n",
       "    <tr>\n",
       "      <th>3</th>\n",
       "      <td>5</td>\n",
       "      <td>2017-03-19 21:00:18</td>\n",
       "      <td>158.601667</td>\n",
       "      <td>53.068436</td>\n",
       "    </tr>\n",
       "    <tr>\n",
       "      <th>4</th>\n",
       "      <td>6</td>\n",
       "      <td>2017-03-19 21:00:18</td>\n",
       "      <td>104.259995</td>\n",
       "      <td>52.250453</td>\n",
       "    </tr>\n",
       "  </tbody>\n",
       "</table>\n",
       "</div>"
      ],
      "text/plain": [
       "   people_id                time   longitude   latitude\n",
       "0          2 2017-03-19 21:00:18   38.937878  47.210758\n",
       "1          3 2017-03-19 21:00:18   45.655278  43.259605\n",
       "2          4 2017-03-19 21:00:18   47.113440  42.804970\n",
       "3          5 2017-03-19 21:00:18  158.601667  53.068436\n",
       "4          6 2017-03-19 21:00:18  104.259995  52.250453"
      ]
     },
     "execution_count": 2,
     "metadata": {},
     "output_type": "execute_result"
    }
   ],
   "source": [
    "column_names = ['people_id', 'time', 'longitude', 'latitude']\n",
    "df = pd.read_csv('event_sample.csv', sep=';', header=None, names=column_names, parse_dates = ['time'])\n",
    "df.head()"
   ]
  },
  {
   "cell_type": "code",
   "execution_count": 3,
   "metadata": {},
   "outputs": [
    {
     "data": {
      "text/html": [
       "<div>\n",
       "<style scoped>\n",
       "    .dataframe tbody tr th:only-of-type {\n",
       "        vertical-align: middle;\n",
       "    }\n",
       "\n",
       "    .dataframe tbody tr th {\n",
       "        vertical-align: top;\n",
       "    }\n",
       "\n",
       "    .dataframe thead th {\n",
       "        text-align: right;\n",
       "    }\n",
       "</style>\n",
       "<table border=\"1\" class=\"dataframe\">\n",
       "  <thead>\n",
       "    <tr style=\"text-align: right;\">\n",
       "      <th></th>\n",
       "      <th>people_id</th>\n",
       "      <th>time</th>\n",
       "      <th>longitude</th>\n",
       "      <th>latitude</th>\n",
       "      <th>day</th>\n",
       "    </tr>\n",
       "  </thead>\n",
       "  <tbody>\n",
       "    <tr>\n",
       "      <th>0</th>\n",
       "      <td>2</td>\n",
       "      <td>2017-03-19 21:00:18</td>\n",
       "      <td>38.937878</td>\n",
       "      <td>47.210758</td>\n",
       "      <td>19</td>\n",
       "    </tr>\n",
       "    <tr>\n",
       "      <th>1</th>\n",
       "      <td>3</td>\n",
       "      <td>2017-03-19 21:00:18</td>\n",
       "      <td>45.655278</td>\n",
       "      <td>43.259605</td>\n",
       "      <td>19</td>\n",
       "    </tr>\n",
       "    <tr>\n",
       "      <th>2</th>\n",
       "      <td>4</td>\n",
       "      <td>2017-03-19 21:00:18</td>\n",
       "      <td>47.113440</td>\n",
       "      <td>42.804970</td>\n",
       "      <td>19</td>\n",
       "    </tr>\n",
       "    <tr>\n",
       "      <th>3</th>\n",
       "      <td>5</td>\n",
       "      <td>2017-03-19 21:00:18</td>\n",
       "      <td>158.601667</td>\n",
       "      <td>53.068436</td>\n",
       "      <td>19</td>\n",
       "    </tr>\n",
       "    <tr>\n",
       "      <th>4</th>\n",
       "      <td>6</td>\n",
       "      <td>2017-03-19 21:00:18</td>\n",
       "      <td>104.259995</td>\n",
       "      <td>52.250453</td>\n",
       "      <td>19</td>\n",
       "    </tr>\n",
       "  </tbody>\n",
       "</table>\n",
       "</div>"
      ],
      "text/plain": [
       "   people_id                time   longitude   latitude  day\n",
       "0          2 2017-03-19 21:00:18   38.937878  47.210758   19\n",
       "1          3 2017-03-19 21:00:18   45.655278  43.259605   19\n",
       "2          4 2017-03-19 21:00:18   47.113440  42.804970   19\n",
       "3          5 2017-03-19 21:00:18  158.601667  53.068436   19\n",
       "4          6 2017-03-19 21:00:18  104.259995  52.250453   19"
      ]
     },
     "execution_count": 3,
     "metadata": {},
     "output_type": "execute_result"
    }
   ],
   "source": [
    "def hr_func(ts):\n",
    "    return ts.day\n",
    "df['day'] = df['time'].apply(hr_func)\n",
    "df.head()"
   ]
  },
  {
   "cell_type": "code",
   "execution_count": 4,
   "metadata": {},
   "outputs": [],
   "source": [
    "from sklearn import metrics\n",
    "from datetime import datetime\n",
    "# from matplotlib import pyplot as plt\n",
    "# import matplotlib.patches as mpatches\n",
    "\n",
    "def get_job_people(df):\n",
    "    job_people = []\n",
    "    groups_peoples = df.groupby('people_id')\n",
    "    for name, group_people in groups_peoples:\n",
    "        group_people = group_people.drop(['people_id'], axis=1)\n",
    "        group_people['time'] = group_people['time'].apply(datetime.toordinal)\n",
    "        trajectory_days = group_people.groupby('day')\n",
    "        for name_trajectory, trajectory_day  in trajectory_days:\n",
    "            gps = trajectory_day.reset_index()[['time', 'longitude', 'latitude']].values.tolist()\n",
    "            db = DBSCAN(eps=0.003, metric='euclidean', min_samples=5, algorithm='auto').fit(gps)\n",
    "            trajectory_day['labels'] = db.labels_\n",
    "            label_day = np.sort(trajectory_day['labels'].unique())\n",
    "            if label_day[0] < 0:\n",
    "                label_day = label_day[1:]\n",
    "            if len(label_day) <= 2:\n",
    "                job_people.append(name)\n",
    "                break\n",
    "    return job_people    \n",
    "        \n",
    "#         trajectory_day = trajectory_day.reset_index(drop=True)\n",
    "#         xs, ys = zip(*trajectory_day.reset_index()[['longitude', 'latitude']].values.tolist())\n",
    "#         plt.scatter(xs,ys) \n",
    "#         red_patch = mpatches.Patch(color='red', label=trajectory_day['labels'].unique())\n",
    "#         plt.legend(handles=[red_patch])"
   ]
  },
  {
   "cell_type": "code",
   "execution_count": 5,
   "metadata": {},
   "outputs": [
    {
     "name": "stdout",
     "output_type": "stream",
     "text": [
      "[2, 3, 4, 5, 7, 9, 11, 13, 14, 15, 16, 17, 19, 20, 21, 22, 23, 26, 28, 29, 30, 31, 35, 37, 38, 39, 40, 41, 43, 44, 45, 46, 51, 52, 53, 54, 55, 56, 57, 58, 59, 60, 61, 63, 64, 65, 67, 68, 69, 70, 74, 75, 76, 77, 79, 81, 82, 84, 85, 86, 87, 89, 90, 91, 93, 94, 97, 98, 100, 101, 102, 103, 104, 106, 108, 110, 111, 112, 114, 115, 116, 117, 118, 120, 121, 123, 124, 125, 129, 130, 131, 132, 133, 135, 136, 138, 139, 140, 141, 142, 143, 144, 145, 150, 151, 152, 153, 154, 156, 159, 160, 161, 162, 163, 164, 165, 167, 168, 170, 171, 172, 173, 175, 178, 179, 180, 181, 182, 183, 184, 185, 187, 188, 189, 190, 192, 193, 196, 197, 198, 199, 200, 201, 203, 204, 206, 207, 208, 209, 210, 211, 212, 213, 214, 215, 217, 218, 219, 220, 221, 222, 223, 224, 225, 226, 227, 228, 229, 230, 232, 233, 234, 235, 236, 237, 238, 239, 240, 241, 242, 243, 244, 245, 246, 250, 251, 252, 253, 255, 256, 257, 258, 259, 260, 261, 262, 264, 265, 266, 267, 268, 270, 271, 272, 273, 274, 275, 277, 278, 279, 281, 282, 284, 285, 286, 287, 288, 290, 291, 293, 295, 296, 297, 299, 300, 301, 305, 306, 307, 309, 311, 312, 314, 315, 316, 319, 320, 321, 322, 323, 324, 325, 327, 328, 331, 332, 333, 334, 335, 337, 338, 339, 340, 341, 342, 345, 346, 347, 348, 349, 350, 351, 352, 353, 355, 358, 359, 361, 365, 366, 367, 368, 369, 370, 371, 372, 373, 374, 375, 376, 377, 378, 379, 380, 381, 382, 383, 384, 385, 386, 387, 389, 390, 391, 392, 394, 397, 398, 399, 400, 403, 404, 405, 406, 407, 408, 410, 411, 412, 413, 414, 415, 416, 417, 420, 421, 422, 423, 425, 426, 427, 428, 429, 430, 431, 432, 434, 436, 438, 439, 441, 442, 443, 445, 446, 447, 448, 449, 450, 451, 452, 453, 454, 455, 456, 457, 458, 459, 460, 461, 462, 463, 464, 465, 466, 467, 468, 470, 471, 472, 473, 474, 475, 477, 478, 479, 480, 481, 482, 483, 485, 486, 487, 488, 489, 490, 492, 493, 495, 497, 498, 499, 500, 502, 503, 504, 505, 508, 511, 512, 513, 514, 515, 516, 518, 520, 522, 523, 524, 525, 526, 527, 528, 529, 530, 531, 532, 533, 534, 536, 537, 538, 539, 540, 541, 542, 546, 547, 548, 549, 551, 552, 553, 554, 555, 556, 557, 558, 559, 562, 563, 565, 566, 567, 568, 569, 570, 571, 573, 574, 575, 578, 579, 580, 583, 584, 585, 586, 588, 589, 590, 591, 592, 593, 596, 597, 598, 599, 600, 601, 602, 603, 604, 605, 606, 607, 609, 610, 611, 612, 613, 614, 615, 616, 618, 619, 620, 621, 622, 624, 626, 627, 628, 629, 631, 634, 637, 638, 639, 641, 642, 643, 645, 646, 647, 648, 649, 651, 652, 653, 655, 657, 658, 659, 660, 661, 662, 663, 665, 666, 667, 668, 670, 672, 673, 674, 675, 676, 677, 678, 679, 681, 682, 683, 684, 685, 686, 687, 688, 690, 691, 692, 694, 696, 697, 698, 699, 700, 701, 702, 703, 704, 705, 708, 709, 712, 713, 714, 715, 716, 718, 720, 721, 723, 724, 725, 727, 728, 729, 730, 733, 735, 738, 739, 741, 742, 743, 744, 745, 746, 747, 748, 749, 750, 751, 753, 754, 756, 757, 758, 759, 761, 763, 764, 765, 766, 768, 769, 770, 771, 773, 774, 775, 777, 778, 779, 781, 782, 785, 786, 787, 788, 789, 790, 791, 792, 793, 794, 795, 796, 797, 798, 800, 802, 803, 804, 805, 806, 807, 808, 809, 810, 811, 812, 815, 816, 818, 819, 821, 822, 823, 824, 825, 829, 830, 831, 832, 835, 836, 837, 838, 840, 841, 842, 843, 845, 846, 848, 850, 852, 853, 855, 856, 857, 858, 861, 862, 863, 864, 866, 867, 868, 869, 870, 871, 872, 873, 874, 875, 876, 877, 878, 879, 880, 882, 883, 885, 886, 887, 888, 889, 890, 891, 894, 895, 897, 898, 899, 900, 901, 902, 905, 906, 907, 908, 910, 911, 912, 914, 915, 916, 917, 919, 920, 921, 922, 923, 924, 925, 926, 927, 928, 929, 932, 935, 936, 937, 938, 939, 941, 942, 943, 944, 945, 946, 947, 948, 949, 950, 951, 952, 953, 954, 955, 956, 957, 962, 964, 965, 967, 968, 970, 972, 973, 974]\n"
     ]
    }
   ],
   "source": [
    "print(get_job_people(df))"
   ]
  }
 ],
 "metadata": {
  "kernelspec": {
   "display_name": "Python 3",
   "language": "python",
   "name": "python3"
  },
  "language_info": {
   "codemirror_mode": {
    "name": "ipython",
    "version": 3
   },
   "file_extension": ".py",
   "mimetype": "text/x-python",
   "name": "python",
   "nbconvert_exporter": "python",
   "pygments_lexer": "ipython3",
   "version": "3.5.2"
  }
 },
 "nbformat": 4,
 "nbformat_minor": 2
}
